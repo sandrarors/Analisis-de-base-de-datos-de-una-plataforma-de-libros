{
 "cells": [
  {
   "cell_type": "markdown",
   "metadata": {},
   "source": [
    "# Proyecto SQL"
   ]
  },
  {
   "cell_type": "markdown",
   "metadata": {},
   "source": [
    "El coronavirus tomó al mundo entero por sorpresa, cambiando la rutina diaria de todos y todas. Los habitantes de las ciudades ya no pasaban su tiempo libre fuera, yendo a cafés y centros comerciales; sino que más gente se quedaba en casa, leyendo libros. Eso atrajo la atención de las startups (empresas emergentes) que se apresuraron a desarrollar nuevas aplicaciones para los amantes de los libros.\n",
    "\n",
    "Te han dado una base de datos de uno de los servicios que compiten en este mercado. Contiene datos sobre libros, editoriales, autores y calificaciones de clientes y reseñas de libros. Esta información se utilizará para generar una propuesta de valor para un nuevo producto."
   ]
  },
  {
   "cell_type": "markdown",
   "metadata": {},
   "source": [
    "# **Descripción de los datos** \n",
    "\n",
    "1) *books:* Contiene datos sobre libros:\n",
    "    - book_id — identificación del libro\n",
    "    - author_id — identificación del autor o autora\n",
    "    - title — título\n",
    "    - num_pages — número de páginas\n",
    "    - publication_date — fecha de la publicación\n",
    "    - publisher_id — identificación de la editorial\n",
    "\n",
    "\n",
    "2) *authors:* Contiene datos sobre autores:\n",
    "    - author_id — identificación del autor o autora\n",
    "    - author — el autor o la autora\n",
    "\n",
    "\n",
    "3) *publishers:* Contiene datos sobre editoriales:\n",
    "    - publisher_id — identificación de la editorial\n",
    "    - publisher — la editorial\n",
    "\n",
    "\n",
    "4) *ratings:* Contiene datos sobre las calificaciones de usuarios:\n",
    "    - rating_id — identificación de la calificación\n",
    "    - book_id — identificación del libro\n",
    "    - username — el nombre del usuario que revisó el libro\n",
    "    - rating — calificación\n",
    "\n",
    "\n",
    "5) *reviews:* Contiene datos sobre las reseñas de los y las clientes:\n",
    "    - review_id — identificación de la reseña\n",
    "    - book_id — identificación del libro\n",
    "    - username — el nombre del usuario que revisó el libro\n",
    "    - text — el texto de la reseña"
   ]
  },
  {
   "cell_type": "markdown",
   "metadata": {},
   "source": [
    "## Inicialización"
   ]
  },
  {
   "cell_type": "code",
   "execution_count": 1,
   "metadata": {},
   "outputs": [],
   "source": [
    "# importar librerías\n",
    "import pandas as pd\n",
    "from sqlalchemy import create_engine\n",
    "\n",
    "\n",
    "db_config = {'user': 'practicum_student',         # nombre de usuario\n",
    "             'pwd': 's65BlTKV3faNIGhmvJVzOqhs', # contraseña\n",
    "             'host': 'rc1b-wcoijxj3yxfsf3fs.mdb.yandexcloud.net',\n",
    "             'port': 6432,              # puerto de conexión\n",
    "             'db': 'data-analyst-final-project-db'}          # nombre de la base de datos\n",
    "\n",
    "connection_string = 'postgresql://{}:{}@{}:{}/{}'.format(db_config['user'],\n",
    "                                                                     db_config['pwd'],\n",
    "                                                                       db_config['host'],\n",
    "                                                                       db_config['port'],\n",
    "                                                                       db_config['db'])\n",
    "\n",
    "engine = create_engine(connection_string, connect_args={'sslmode':'require'})"
   ]
  },
  {
   "cell_type": "code",
   "execution_count": 2,
   "metadata": {},
   "outputs": [],
   "source": [
    "query = \"\"\"\n",
    "    SELECT *\n",
    "    FROM books\n",
    "    LIMIT 10\n",
    "\"\"\""
   ]
  },
  {
   "cell_type": "code",
   "execution_count": 3,
   "metadata": {},
   "outputs": [
    {
     "data": {
      "text/html": [
       "<div>\n",
       "<style scoped>\n",
       "    .dataframe tbody tr th:only-of-type {\n",
       "        vertical-align: middle;\n",
       "    }\n",
       "\n",
       "    .dataframe tbody tr th {\n",
       "        vertical-align: top;\n",
       "    }\n",
       "\n",
       "    .dataframe thead th {\n",
       "        text-align: right;\n",
       "    }\n",
       "</style>\n",
       "<table border=\"1\" class=\"dataframe\">\n",
       "  <thead>\n",
       "    <tr style=\"text-align: right;\">\n",
       "      <th></th>\n",
       "      <th>book_id</th>\n",
       "      <th>author_id</th>\n",
       "      <th>title</th>\n",
       "      <th>num_pages</th>\n",
       "      <th>publication_date</th>\n",
       "      <th>publisher_id</th>\n",
       "    </tr>\n",
       "  </thead>\n",
       "  <tbody>\n",
       "    <tr>\n",
       "      <th>0</th>\n",
       "      <td>1</td>\n",
       "      <td>546</td>\n",
       "      <td>'Salem's Lot</td>\n",
       "      <td>594</td>\n",
       "      <td>2005-11-01</td>\n",
       "      <td>93</td>\n",
       "    </tr>\n",
       "    <tr>\n",
       "      <th>1</th>\n",
       "      <td>2</td>\n",
       "      <td>465</td>\n",
       "      <td>1 000 Places to See Before You Die</td>\n",
       "      <td>992</td>\n",
       "      <td>2003-05-22</td>\n",
       "      <td>336</td>\n",
       "    </tr>\n",
       "    <tr>\n",
       "      <th>2</th>\n",
       "      <td>3</td>\n",
       "      <td>407</td>\n",
       "      <td>13 Little Blue Envelopes (Little Blue Envelope...</td>\n",
       "      <td>322</td>\n",
       "      <td>2010-12-21</td>\n",
       "      <td>135</td>\n",
       "    </tr>\n",
       "    <tr>\n",
       "      <th>3</th>\n",
       "      <td>4</td>\n",
       "      <td>82</td>\n",
       "      <td>1491: New Revelations of the Americas Before C...</td>\n",
       "      <td>541</td>\n",
       "      <td>2006-10-10</td>\n",
       "      <td>309</td>\n",
       "    </tr>\n",
       "    <tr>\n",
       "      <th>4</th>\n",
       "      <td>5</td>\n",
       "      <td>125</td>\n",
       "      <td>1776</td>\n",
       "      <td>386</td>\n",
       "      <td>2006-07-04</td>\n",
       "      <td>268</td>\n",
       "    </tr>\n",
       "    <tr>\n",
       "      <th>5</th>\n",
       "      <td>6</td>\n",
       "      <td>257</td>\n",
       "      <td>1st to Die (Women's Murder Club  #1)</td>\n",
       "      <td>424</td>\n",
       "      <td>2005-05-20</td>\n",
       "      <td>116</td>\n",
       "    </tr>\n",
       "    <tr>\n",
       "      <th>6</th>\n",
       "      <td>7</td>\n",
       "      <td>258</td>\n",
       "      <td>2nd Chance (Women's Murder Club  #2)</td>\n",
       "      <td>400</td>\n",
       "      <td>2005-05-20</td>\n",
       "      <td>116</td>\n",
       "    </tr>\n",
       "    <tr>\n",
       "      <th>7</th>\n",
       "      <td>8</td>\n",
       "      <td>260</td>\n",
       "      <td>4th of July (Women's Murder Club  #4)</td>\n",
       "      <td>448</td>\n",
       "      <td>2006-06-01</td>\n",
       "      <td>318</td>\n",
       "    </tr>\n",
       "    <tr>\n",
       "      <th>8</th>\n",
       "      <td>9</td>\n",
       "      <td>563</td>\n",
       "      <td>A Beautiful Mind</td>\n",
       "      <td>461</td>\n",
       "      <td>2002-02-04</td>\n",
       "      <td>104</td>\n",
       "    </tr>\n",
       "    <tr>\n",
       "      <th>9</th>\n",
       "      <td>10</td>\n",
       "      <td>445</td>\n",
       "      <td>A Bend in the Road</td>\n",
       "      <td>341</td>\n",
       "      <td>2005-04-01</td>\n",
       "      <td>116</td>\n",
       "    </tr>\n",
       "  </tbody>\n",
       "</table>\n",
       "</div>"
      ],
      "text/plain": [
       "   book_id  author_id                                              title  \\\n",
       "0        1        546                                       'Salem's Lot   \n",
       "1        2        465                 1 000 Places to See Before You Die   \n",
       "2        3        407  13 Little Blue Envelopes (Little Blue Envelope...   \n",
       "3        4         82  1491: New Revelations of the Americas Before C...   \n",
       "4        5        125                                               1776   \n",
       "5        6        257               1st to Die (Women's Murder Club  #1)   \n",
       "6        7        258               2nd Chance (Women's Murder Club  #2)   \n",
       "7        8        260              4th of July (Women's Murder Club  #4)   \n",
       "8        9        563                                   A Beautiful Mind   \n",
       "9       10        445                                 A Bend in the Road   \n",
       "\n",
       "   num_pages publication_date  publisher_id  \n",
       "0        594       2005-11-01            93  \n",
       "1        992       2003-05-22           336  \n",
       "2        322       2010-12-21           135  \n",
       "3        541       2006-10-10           309  \n",
       "4        386       2006-07-04           268  \n",
       "5        424       2005-05-20           116  \n",
       "6        400       2005-05-20           116  \n",
       "7        448       2006-06-01           318  \n",
       "8        461       2002-02-04           104  \n",
       "9        341       2005-04-01           116  "
      ]
     },
     "execution_count": 3,
     "metadata": {},
     "output_type": "execute_result"
    }
   ],
   "source": [
    "pd.io.sql.read_sql(query, con = engine)"
   ]
  },
  {
   "cell_type": "code",
   "execution_count": 4,
   "metadata": {},
   "outputs": [],
   "source": [
    "query = \"\"\"\n",
    "    SELECT *\n",
    "    FROM authors\n",
    "    LIMIT 10\n",
    "\"\"\""
   ]
  },
  {
   "cell_type": "code",
   "execution_count": 5,
   "metadata": {},
   "outputs": [
    {
     "data": {
      "text/html": [
       "<div>\n",
       "<style scoped>\n",
       "    .dataframe tbody tr th:only-of-type {\n",
       "        vertical-align: middle;\n",
       "    }\n",
       "\n",
       "    .dataframe tbody tr th {\n",
       "        vertical-align: top;\n",
       "    }\n",
       "\n",
       "    .dataframe thead th {\n",
       "        text-align: right;\n",
       "    }\n",
       "</style>\n",
       "<table border=\"1\" class=\"dataframe\">\n",
       "  <thead>\n",
       "    <tr style=\"text-align: right;\">\n",
       "      <th></th>\n",
       "      <th>author_id</th>\n",
       "      <th>author</th>\n",
       "    </tr>\n",
       "  </thead>\n",
       "  <tbody>\n",
       "    <tr>\n",
       "      <th>0</th>\n",
       "      <td>1</td>\n",
       "      <td>A.S. Byatt</td>\n",
       "    </tr>\n",
       "    <tr>\n",
       "      <th>1</th>\n",
       "      <td>2</td>\n",
       "      <td>Aesop/Laura Harris/Laura Gibbs</td>\n",
       "    </tr>\n",
       "    <tr>\n",
       "      <th>2</th>\n",
       "      <td>3</td>\n",
       "      <td>Agatha Christie</td>\n",
       "    </tr>\n",
       "    <tr>\n",
       "      <th>3</th>\n",
       "      <td>4</td>\n",
       "      <td>Alan Brennert</td>\n",
       "    </tr>\n",
       "    <tr>\n",
       "      <th>4</th>\n",
       "      <td>5</td>\n",
       "      <td>Alan Moore/David   Lloyd</td>\n",
       "    </tr>\n",
       "    <tr>\n",
       "      <th>5</th>\n",
       "      <td>6</td>\n",
       "      <td>Alan Paton</td>\n",
       "    </tr>\n",
       "    <tr>\n",
       "      <th>6</th>\n",
       "      <td>7</td>\n",
       "      <td>Albert Camus/Justin O'Brien</td>\n",
       "    </tr>\n",
       "    <tr>\n",
       "      <th>7</th>\n",
       "      <td>8</td>\n",
       "      <td>Aldous Huxley</td>\n",
       "    </tr>\n",
       "    <tr>\n",
       "      <th>8</th>\n",
       "      <td>9</td>\n",
       "      <td>Aldous Huxley/Christopher Hitchens</td>\n",
       "    </tr>\n",
       "    <tr>\n",
       "      <th>9</th>\n",
       "      <td>10</td>\n",
       "      <td>Aleksandr Solzhenitsyn/H.T. Willetts</td>\n",
       "    </tr>\n",
       "  </tbody>\n",
       "</table>\n",
       "</div>"
      ],
      "text/plain": [
       "   author_id                                author\n",
       "0          1                            A.S. Byatt\n",
       "1          2        Aesop/Laura Harris/Laura Gibbs\n",
       "2          3                       Agatha Christie\n",
       "3          4                         Alan Brennert\n",
       "4          5              Alan Moore/David   Lloyd\n",
       "5          6                            Alan Paton\n",
       "6          7           Albert Camus/Justin O'Brien\n",
       "7          8                         Aldous Huxley\n",
       "8          9    Aldous Huxley/Christopher Hitchens\n",
       "9         10  Aleksandr Solzhenitsyn/H.T. Willetts"
      ]
     },
     "execution_count": 5,
     "metadata": {},
     "output_type": "execute_result"
    }
   ],
   "source": [
    "pd.io.sql.read_sql(query, con = engine)"
   ]
  },
  {
   "cell_type": "code",
   "execution_count": 6,
   "metadata": {},
   "outputs": [],
   "source": [
    "query = \"\"\"\n",
    "    SELECT *\n",
    "    FROM publishers\n",
    "    LIMIT 10\n",
    "\"\"\""
   ]
  },
  {
   "cell_type": "code",
   "execution_count": 7,
   "metadata": {},
   "outputs": [
    {
     "data": {
      "text/html": [
       "<div>\n",
       "<style scoped>\n",
       "    .dataframe tbody tr th:only-of-type {\n",
       "        vertical-align: middle;\n",
       "    }\n",
       "\n",
       "    .dataframe tbody tr th {\n",
       "        vertical-align: top;\n",
       "    }\n",
       "\n",
       "    .dataframe thead th {\n",
       "        text-align: right;\n",
       "    }\n",
       "</style>\n",
       "<table border=\"1\" class=\"dataframe\">\n",
       "  <thead>\n",
       "    <tr style=\"text-align: right;\">\n",
       "      <th></th>\n",
       "      <th>publisher_id</th>\n",
       "      <th>publisher</th>\n",
       "    </tr>\n",
       "  </thead>\n",
       "  <tbody>\n",
       "    <tr>\n",
       "      <th>0</th>\n",
       "      <td>1</td>\n",
       "      <td>Ace</td>\n",
       "    </tr>\n",
       "    <tr>\n",
       "      <th>1</th>\n",
       "      <td>2</td>\n",
       "      <td>Ace Book</td>\n",
       "    </tr>\n",
       "    <tr>\n",
       "      <th>2</th>\n",
       "      <td>3</td>\n",
       "      <td>Ace Books</td>\n",
       "    </tr>\n",
       "    <tr>\n",
       "      <th>3</th>\n",
       "      <td>4</td>\n",
       "      <td>Ace Hardcover</td>\n",
       "    </tr>\n",
       "    <tr>\n",
       "      <th>4</th>\n",
       "      <td>5</td>\n",
       "      <td>Addison Wesley Publishing Company</td>\n",
       "    </tr>\n",
       "    <tr>\n",
       "      <th>5</th>\n",
       "      <td>6</td>\n",
       "      <td>Aladdin</td>\n",
       "    </tr>\n",
       "    <tr>\n",
       "      <th>6</th>\n",
       "      <td>7</td>\n",
       "      <td>Aladdin Paperbacks</td>\n",
       "    </tr>\n",
       "    <tr>\n",
       "      <th>7</th>\n",
       "      <td>8</td>\n",
       "      <td>Albin Michel</td>\n",
       "    </tr>\n",
       "    <tr>\n",
       "      <th>8</th>\n",
       "      <td>9</td>\n",
       "      <td>Alfred A. Knopf</td>\n",
       "    </tr>\n",
       "    <tr>\n",
       "      <th>9</th>\n",
       "      <td>10</td>\n",
       "      <td>Alfred A. Knopf Books for Young Readers</td>\n",
       "    </tr>\n",
       "  </tbody>\n",
       "</table>\n",
       "</div>"
      ],
      "text/plain": [
       "   publisher_id                                publisher\n",
       "0             1                                      Ace\n",
       "1             2                                 Ace Book\n",
       "2             3                                Ace Books\n",
       "3             4                            Ace Hardcover\n",
       "4             5        Addison Wesley Publishing Company\n",
       "5             6                                  Aladdin\n",
       "6             7                       Aladdin Paperbacks\n",
       "7             8                             Albin Michel\n",
       "8             9                          Alfred A. Knopf\n",
       "9            10  Alfred A. Knopf Books for Young Readers"
      ]
     },
     "execution_count": 7,
     "metadata": {},
     "output_type": "execute_result"
    }
   ],
   "source": [
    "pd.io.sql.read_sql(query, con = engine)"
   ]
  },
  {
   "cell_type": "code",
   "execution_count": 8,
   "metadata": {},
   "outputs": [],
   "source": [
    "query = \"\"\"\n",
    "    SELECT *\n",
    "    FROM ratings\n",
    "    LIMIT 10\n",
    "\"\"\" "
   ]
  },
  {
   "cell_type": "code",
   "execution_count": 9,
   "metadata": {},
   "outputs": [
    {
     "data": {
      "text/html": [
       "<div>\n",
       "<style scoped>\n",
       "    .dataframe tbody tr th:only-of-type {\n",
       "        vertical-align: middle;\n",
       "    }\n",
       "\n",
       "    .dataframe tbody tr th {\n",
       "        vertical-align: top;\n",
       "    }\n",
       "\n",
       "    .dataframe thead th {\n",
       "        text-align: right;\n",
       "    }\n",
       "</style>\n",
       "<table border=\"1\" class=\"dataframe\">\n",
       "  <thead>\n",
       "    <tr style=\"text-align: right;\">\n",
       "      <th></th>\n",
       "      <th>rating_id</th>\n",
       "      <th>book_id</th>\n",
       "      <th>username</th>\n",
       "      <th>rating</th>\n",
       "    </tr>\n",
       "  </thead>\n",
       "  <tbody>\n",
       "    <tr>\n",
       "      <th>0</th>\n",
       "      <td>1</td>\n",
       "      <td>1</td>\n",
       "      <td>ryanfranco</td>\n",
       "      <td>4</td>\n",
       "    </tr>\n",
       "    <tr>\n",
       "      <th>1</th>\n",
       "      <td>2</td>\n",
       "      <td>1</td>\n",
       "      <td>grantpatricia</td>\n",
       "      <td>2</td>\n",
       "    </tr>\n",
       "    <tr>\n",
       "      <th>2</th>\n",
       "      <td>3</td>\n",
       "      <td>1</td>\n",
       "      <td>brandtandrea</td>\n",
       "      <td>5</td>\n",
       "    </tr>\n",
       "    <tr>\n",
       "      <th>3</th>\n",
       "      <td>4</td>\n",
       "      <td>2</td>\n",
       "      <td>lorichen</td>\n",
       "      <td>3</td>\n",
       "    </tr>\n",
       "    <tr>\n",
       "      <th>4</th>\n",
       "      <td>5</td>\n",
       "      <td>2</td>\n",
       "      <td>mariokeller</td>\n",
       "      <td>2</td>\n",
       "    </tr>\n",
       "    <tr>\n",
       "      <th>5</th>\n",
       "      <td>6</td>\n",
       "      <td>3</td>\n",
       "      <td>johnsonamanda</td>\n",
       "      <td>4</td>\n",
       "    </tr>\n",
       "    <tr>\n",
       "      <th>6</th>\n",
       "      <td>7</td>\n",
       "      <td>3</td>\n",
       "      <td>scotttamara</td>\n",
       "      <td>5</td>\n",
       "    </tr>\n",
       "    <tr>\n",
       "      <th>7</th>\n",
       "      <td>8</td>\n",
       "      <td>3</td>\n",
       "      <td>lesliegibbs</td>\n",
       "      <td>5</td>\n",
       "    </tr>\n",
       "    <tr>\n",
       "      <th>8</th>\n",
       "      <td>9</td>\n",
       "      <td>4</td>\n",
       "      <td>abbottjames</td>\n",
       "      <td>5</td>\n",
       "    </tr>\n",
       "    <tr>\n",
       "      <th>9</th>\n",
       "      <td>10</td>\n",
       "      <td>4</td>\n",
       "      <td>valenciaanne</td>\n",
       "      <td>4</td>\n",
       "    </tr>\n",
       "  </tbody>\n",
       "</table>\n",
       "</div>"
      ],
      "text/plain": [
       "   rating_id  book_id       username  rating\n",
       "0          1        1     ryanfranco       4\n",
       "1          2        1  grantpatricia       2\n",
       "2          3        1   brandtandrea       5\n",
       "3          4        2       lorichen       3\n",
       "4          5        2    mariokeller       2\n",
       "5          6        3  johnsonamanda       4\n",
       "6          7        3    scotttamara       5\n",
       "7          8        3    lesliegibbs       5\n",
       "8          9        4    abbottjames       5\n",
       "9         10        4   valenciaanne       4"
      ]
     },
     "execution_count": 9,
     "metadata": {},
     "output_type": "execute_result"
    }
   ],
   "source": [
    "pd.io.sql.read_sql(query, con = engine)"
   ]
  },
  {
   "cell_type": "code",
   "execution_count": 10,
   "metadata": {},
   "outputs": [],
   "source": [
    "query = \"\"\"\n",
    "    SELECT *\n",
    "    FROM reviews\n",
    "    LIMIT 10\n",
    "\"\"\""
   ]
  },
  {
   "cell_type": "code",
   "execution_count": 11,
   "metadata": {},
   "outputs": [
    {
     "data": {
      "text/html": [
       "<div>\n",
       "<style scoped>\n",
       "    .dataframe tbody tr th:only-of-type {\n",
       "        vertical-align: middle;\n",
       "    }\n",
       "\n",
       "    .dataframe tbody tr th {\n",
       "        vertical-align: top;\n",
       "    }\n",
       "\n",
       "    .dataframe thead th {\n",
       "        text-align: right;\n",
       "    }\n",
       "</style>\n",
       "<table border=\"1\" class=\"dataframe\">\n",
       "  <thead>\n",
       "    <tr style=\"text-align: right;\">\n",
       "      <th></th>\n",
       "      <th>review_id</th>\n",
       "      <th>book_id</th>\n",
       "      <th>username</th>\n",
       "      <th>text</th>\n",
       "    </tr>\n",
       "  </thead>\n",
       "  <tbody>\n",
       "    <tr>\n",
       "      <th>0</th>\n",
       "      <td>1</td>\n",
       "      <td>1</td>\n",
       "      <td>brandtandrea</td>\n",
       "      <td>Mention society tell send professor analysis. ...</td>\n",
       "    </tr>\n",
       "    <tr>\n",
       "      <th>1</th>\n",
       "      <td>2</td>\n",
       "      <td>1</td>\n",
       "      <td>ryanfranco</td>\n",
       "      <td>Foot glass pretty audience hit themselves. Amo...</td>\n",
       "    </tr>\n",
       "    <tr>\n",
       "      <th>2</th>\n",
       "      <td>3</td>\n",
       "      <td>2</td>\n",
       "      <td>lorichen</td>\n",
       "      <td>Listen treat keep worry. Miss husband tax but ...</td>\n",
       "    </tr>\n",
       "    <tr>\n",
       "      <th>3</th>\n",
       "      <td>4</td>\n",
       "      <td>3</td>\n",
       "      <td>johnsonamanda</td>\n",
       "      <td>Finally month interesting blue could nature cu...</td>\n",
       "    </tr>\n",
       "    <tr>\n",
       "      <th>4</th>\n",
       "      <td>5</td>\n",
       "      <td>3</td>\n",
       "      <td>scotttamara</td>\n",
       "      <td>Nation purpose heavy give wait song will. List...</td>\n",
       "    </tr>\n",
       "    <tr>\n",
       "      <th>5</th>\n",
       "      <td>6</td>\n",
       "      <td>3</td>\n",
       "      <td>lesliegibbs</td>\n",
       "      <td>Analysis no several cause international.</td>\n",
       "    </tr>\n",
       "    <tr>\n",
       "      <th>6</th>\n",
       "      <td>7</td>\n",
       "      <td>4</td>\n",
       "      <td>valenciaanne</td>\n",
       "      <td>One there cost another. Say type save. With pe...</td>\n",
       "    </tr>\n",
       "    <tr>\n",
       "      <th>7</th>\n",
       "      <td>8</td>\n",
       "      <td>4</td>\n",
       "      <td>abbottjames</td>\n",
       "      <td>Within enough mother. There at system full rec...</td>\n",
       "    </tr>\n",
       "    <tr>\n",
       "      <th>8</th>\n",
       "      <td>9</td>\n",
       "      <td>5</td>\n",
       "      <td>npowers</td>\n",
       "      <td>Thank now focus realize economy focus fly. Ite...</td>\n",
       "    </tr>\n",
       "    <tr>\n",
       "      <th>9</th>\n",
       "      <td>10</td>\n",
       "      <td>5</td>\n",
       "      <td>staylor</td>\n",
       "      <td>Game push lot reduce where remember. Including...</td>\n",
       "    </tr>\n",
       "  </tbody>\n",
       "</table>\n",
       "</div>"
      ],
      "text/plain": [
       "   review_id  book_id       username  \\\n",
       "0          1        1   brandtandrea   \n",
       "1          2        1     ryanfranco   \n",
       "2          3        2       lorichen   \n",
       "3          4        3  johnsonamanda   \n",
       "4          5        3    scotttamara   \n",
       "5          6        3    lesliegibbs   \n",
       "6          7        4   valenciaanne   \n",
       "7          8        4    abbottjames   \n",
       "8          9        5        npowers   \n",
       "9         10        5        staylor   \n",
       "\n",
       "                                                text  \n",
       "0  Mention society tell send professor analysis. ...  \n",
       "1  Foot glass pretty audience hit themselves. Amo...  \n",
       "2  Listen treat keep worry. Miss husband tax but ...  \n",
       "3  Finally month interesting blue could nature cu...  \n",
       "4  Nation purpose heavy give wait song will. List...  \n",
       "5           Analysis no several cause international.  \n",
       "6  One there cost another. Say type save. With pe...  \n",
       "7  Within enough mother. There at system full rec...  \n",
       "8  Thank now focus realize economy focus fly. Ite...  \n",
       "9  Game push lot reduce where remember. Including...  "
      ]
     },
     "execution_count": 11,
     "metadata": {},
     "output_type": "execute_result"
    }
   ],
   "source": [
    "pd.io.sql.read_sql(query, con = engine)"
   ]
  },
  {
   "cell_type": "markdown",
   "metadata": {},
   "source": [
    "## Consultas"
   ]
  },
  {
   "cell_type": "markdown",
   "metadata": {},
   "source": [
    "A continuación realizaremos las consultas para dar respuesta a las preguntas del ejercicio."
   ]
  },
  {
   "cell_type": "markdown",
   "metadata": {},
   "source": [
    "### Encuentra el número de libros publicados después del 1 de enero de 2000"
   ]
  },
  {
   "cell_type": "code",
   "execution_count": 12,
   "metadata": {},
   "outputs": [],
   "source": [
    "query = \"\"\"\n",
    "SELECT COUNT(*) AS num_libros\n",
    "FROM books\n",
    "WHERE publication_date > '2000-01-01';\n",
    "\"\"\""
   ]
  },
  {
   "cell_type": "code",
   "execution_count": 13,
   "metadata": {},
   "outputs": [
    {
     "data": {
      "text/html": [
       "<div>\n",
       "<style scoped>\n",
       "    .dataframe tbody tr th:only-of-type {\n",
       "        vertical-align: middle;\n",
       "    }\n",
       "\n",
       "    .dataframe tbody tr th {\n",
       "        vertical-align: top;\n",
       "    }\n",
       "\n",
       "    .dataframe thead th {\n",
       "        text-align: right;\n",
       "    }\n",
       "</style>\n",
       "<table border=\"1\" class=\"dataframe\">\n",
       "  <thead>\n",
       "    <tr style=\"text-align: right;\">\n",
       "      <th></th>\n",
       "      <th>num_libros</th>\n",
       "    </tr>\n",
       "  </thead>\n",
       "  <tbody>\n",
       "    <tr>\n",
       "      <th>0</th>\n",
       "      <td>819</td>\n",
       "    </tr>\n",
       "  </tbody>\n",
       "</table>\n",
       "</div>"
      ],
      "text/plain": [
       "   num_libros\n",
       "0         819"
      ]
     },
     "execution_count": 13,
     "metadata": {},
     "output_type": "execute_result"
    }
   ],
   "source": [
    "pd.io.sql.read_sql(query, con = engine)"
   ]
  },
  {
   "cell_type": "markdown",
   "metadata": {},
   "source": [
    "**Comentarios:** Después de realizar la consulta, encontramos que el número de libros publicados después del 1 de enero de 2000 fueron 819."
   ]
  },
  {
   "cell_type": "markdown",
   "metadata": {},
   "source": [
    "### Encuentra el número de reseñas de usuarios y la calificación promedio para cada libro.\n",
    "\n"
   ]
  },
  {
   "cell_type": "code",
   "execution_count": 14,
   "metadata": {},
   "outputs": [],
   "source": [
    "query = \"\"\"\n",
    "SELECT b.book_id, b.title, \n",
    "       COUNT(r.review_id) AS num_reviews, \n",
    "       AVG(rt.rating) AS average_rating\n",
    "FROM books b\n",
    "LEFT JOIN reviews r ON b.book_id = r.book_id\n",
    "LEFT JOIN ratings rt ON b.book_id = rt.book_id\n",
    "GROUP BY b.book_id, b.title\n",
    "ORDER BY num_reviews DESC;\n",
    "\"\"\""
   ]
  },
  {
   "cell_type": "code",
   "execution_count": 15,
   "metadata": {
    "scrolled": false
   },
   "outputs": [
    {
     "data": {
      "text/html": [
       "<div>\n",
       "<style scoped>\n",
       "    .dataframe tbody tr th:only-of-type {\n",
       "        vertical-align: middle;\n",
       "    }\n",
       "\n",
       "    .dataframe tbody tr th {\n",
       "        vertical-align: top;\n",
       "    }\n",
       "\n",
       "    .dataframe thead th {\n",
       "        text-align: right;\n",
       "    }\n",
       "</style>\n",
       "<table border=\"1\" class=\"dataframe\">\n",
       "  <thead>\n",
       "    <tr style=\"text-align: right;\">\n",
       "      <th></th>\n",
       "      <th>book_id</th>\n",
       "      <th>title</th>\n",
       "      <th>num_reviews</th>\n",
       "      <th>average_rating</th>\n",
       "    </tr>\n",
       "  </thead>\n",
       "  <tbody>\n",
       "    <tr>\n",
       "      <th>0</th>\n",
       "      <td>948</td>\n",
       "      <td>Twilight (Twilight  #1)</td>\n",
       "      <td>1120</td>\n",
       "      <td>3.662500</td>\n",
       "    </tr>\n",
       "    <tr>\n",
       "      <th>1</th>\n",
       "      <td>750</td>\n",
       "      <td>The Hobbit  or There and Back Again</td>\n",
       "      <td>528</td>\n",
       "      <td>4.125000</td>\n",
       "    </tr>\n",
       "    <tr>\n",
       "      <th>2</th>\n",
       "      <td>673</td>\n",
       "      <td>The Catcher in the Rye</td>\n",
       "      <td>516</td>\n",
       "      <td>3.825581</td>\n",
       "    </tr>\n",
       "    <tr>\n",
       "      <th>3</th>\n",
       "      <td>302</td>\n",
       "      <td>Harry Potter and the Prisoner of Azkaban (Harr...</td>\n",
       "      <td>492</td>\n",
       "      <td>4.414634</td>\n",
       "    </tr>\n",
       "    <tr>\n",
       "      <th>4</th>\n",
       "      <td>299</td>\n",
       "      <td>Harry Potter and the Chamber of Secrets (Harry...</td>\n",
       "      <td>480</td>\n",
       "      <td>4.287500</td>\n",
       "    </tr>\n",
       "    <tr>\n",
       "      <th>...</th>\n",
       "      <td>...</td>\n",
       "      <td>...</td>\n",
       "      <td>...</td>\n",
       "      <td>...</td>\n",
       "    </tr>\n",
       "    <tr>\n",
       "      <th>995</th>\n",
       "      <td>221</td>\n",
       "      <td>Essential Tales and Poems</td>\n",
       "      <td>0</td>\n",
       "      <td>4.000000</td>\n",
       "    </tr>\n",
       "    <tr>\n",
       "      <th>996</th>\n",
       "      <td>808</td>\n",
       "      <td>The Natural Way to Draw</td>\n",
       "      <td>0</td>\n",
       "      <td>3.000000</td>\n",
       "    </tr>\n",
       "    <tr>\n",
       "      <th>997</th>\n",
       "      <td>191</td>\n",
       "      <td>Disney's Beauty and the Beast (A Little Golden...</td>\n",
       "      <td>0</td>\n",
       "      <td>4.000000</td>\n",
       "    </tr>\n",
       "    <tr>\n",
       "      <th>998</th>\n",
       "      <td>83</td>\n",
       "      <td>Anne Rice's The Vampire Lestat: A Graphic Novel</td>\n",
       "      <td>0</td>\n",
       "      <td>3.666667</td>\n",
       "    </tr>\n",
       "    <tr>\n",
       "      <th>999</th>\n",
       "      <td>672</td>\n",
       "      <td>The Cat in the Hat and Other Dr. Seuss Favorites</td>\n",
       "      <td>0</td>\n",
       "      <td>5.000000</td>\n",
       "    </tr>\n",
       "  </tbody>\n",
       "</table>\n",
       "<p>1000 rows × 4 columns</p>\n",
       "</div>"
      ],
      "text/plain": [
       "     book_id                                              title  num_reviews  \\\n",
       "0        948                            Twilight (Twilight  #1)         1120   \n",
       "1        750                The Hobbit  or There and Back Again          528   \n",
       "2        673                             The Catcher in the Rye          516   \n",
       "3        302  Harry Potter and the Prisoner of Azkaban (Harr...          492   \n",
       "4        299  Harry Potter and the Chamber of Secrets (Harry...          480   \n",
       "..       ...                                                ...          ...   \n",
       "995      221                          Essential Tales and Poems            0   \n",
       "996      808                            The Natural Way to Draw            0   \n",
       "997      191  Disney's Beauty and the Beast (A Little Golden...            0   \n",
       "998       83    Anne Rice's The Vampire Lestat: A Graphic Novel            0   \n",
       "999      672   The Cat in the Hat and Other Dr. Seuss Favorites            0   \n",
       "\n",
       "     average_rating  \n",
       "0          3.662500  \n",
       "1          4.125000  \n",
       "2          3.825581  \n",
       "3          4.414634  \n",
       "4          4.287500  \n",
       "..              ...  \n",
       "995        4.000000  \n",
       "996        3.000000  \n",
       "997        4.000000  \n",
       "998        3.666667  \n",
       "999        5.000000  \n",
       "\n",
       "[1000 rows x 4 columns]"
      ]
     },
     "execution_count": 15,
     "metadata": {},
     "output_type": "execute_result"
    }
   ],
   "source": [
    "pd.io.sql.read_sql(query, con = engine)"
   ]
  },
  {
   "cell_type": "markdown",
   "metadata": {},
   "source": [
    "**Comentarios:** Algunos libros tienen un alto número de reseñas, como \"Twilight 1\" con 1120 reseñas, lo que lo coloca en el puesto número 1 seguido por \"The Hobbit or There and Back Again\" con 528 reseñas."
   ]
  },
  {
   "cell_type": "code",
   "execution_count": 16,
   "metadata": {},
   "outputs": [],
   "source": [
    "query = \"\"\"\n",
    "SELECT b.book_id, b.title, \n",
    "       COUNT(r.review_id) AS num_reviews, \n",
    "       AVG(rt.rating) AS average_rating\n",
    "FROM books b\n",
    "LEFT JOIN reviews r ON b.book_id = r.book_id\n",
    "LEFT JOIN ratings rt ON b.book_id = rt.book_id\n",
    "GROUP BY b.book_id, b.title\n",
    "ORDER BY average_rating DESC;\n",
    "\"\"\""
   ]
  },
  {
   "cell_type": "code",
   "execution_count": 17,
   "metadata": {
    "scrolled": false
   },
   "outputs": [
    {
     "data": {
      "text/html": [
       "<div>\n",
       "<style scoped>\n",
       "    .dataframe tbody tr th:only-of-type {\n",
       "        vertical-align: middle;\n",
       "    }\n",
       "\n",
       "    .dataframe tbody tr th {\n",
       "        vertical-align: top;\n",
       "    }\n",
       "\n",
       "    .dataframe thead th {\n",
       "        text-align: right;\n",
       "    }\n",
       "</style>\n",
       "<table border=\"1\" class=\"dataframe\">\n",
       "  <thead>\n",
       "    <tr style=\"text-align: right;\">\n",
       "      <th></th>\n",
       "      <th>book_id</th>\n",
       "      <th>title</th>\n",
       "      <th>num_reviews</th>\n",
       "      <th>average_rating</th>\n",
       "    </tr>\n",
       "  </thead>\n",
       "  <tbody>\n",
       "    <tr>\n",
       "      <th>0</th>\n",
       "      <td>518</td>\n",
       "      <td>Pop Goes the Weasel (Alex Cross  #5)</td>\n",
       "      <td>4</td>\n",
       "      <td>5.00</td>\n",
       "    </tr>\n",
       "    <tr>\n",
       "      <th>1</th>\n",
       "      <td>732</td>\n",
       "      <td>The Ghost Map: The Story of London's Most Terr...</td>\n",
       "      <td>4</td>\n",
       "      <td>5.00</td>\n",
       "    </tr>\n",
       "    <tr>\n",
       "      <th>2</th>\n",
       "      <td>347</td>\n",
       "      <td>In the Hand of the Goddess (Song of the Liones...</td>\n",
       "      <td>6</td>\n",
       "      <td>5.00</td>\n",
       "    </tr>\n",
       "    <tr>\n",
       "      <th>3</th>\n",
       "      <td>610</td>\n",
       "      <td>Tai-Pan (Asian Saga  #2)</td>\n",
       "      <td>4</td>\n",
       "      <td>5.00</td>\n",
       "    </tr>\n",
       "    <tr>\n",
       "      <th>4</th>\n",
       "      <td>330</td>\n",
       "      <td>How to Be a Domestic Goddess: Baking and the A...</td>\n",
       "      <td>2</td>\n",
       "      <td>5.00</td>\n",
       "    </tr>\n",
       "    <tr>\n",
       "      <th>...</th>\n",
       "      <td>...</td>\n",
       "      <td>...</td>\n",
       "      <td>...</td>\n",
       "      <td>...</td>\n",
       "    </tr>\n",
       "    <tr>\n",
       "      <th>995</th>\n",
       "      <td>915</td>\n",
       "      <td>The World Is Flat: A Brief History of the Twen...</td>\n",
       "      <td>12</td>\n",
       "      <td>2.25</td>\n",
       "    </tr>\n",
       "    <tr>\n",
       "      <th>996</th>\n",
       "      <td>371</td>\n",
       "      <td>Junky</td>\n",
       "      <td>4</td>\n",
       "      <td>2.00</td>\n",
       "    </tr>\n",
       "    <tr>\n",
       "      <th>997</th>\n",
       "      <td>316</td>\n",
       "      <td>His Excellency: George Washington</td>\n",
       "      <td>4</td>\n",
       "      <td>2.00</td>\n",
       "    </tr>\n",
       "    <tr>\n",
       "      <th>998</th>\n",
       "      <td>202</td>\n",
       "      <td>Drowning Ruth</td>\n",
       "      <td>9</td>\n",
       "      <td>2.00</td>\n",
       "    </tr>\n",
       "    <tr>\n",
       "      <th>999</th>\n",
       "      <td>303</td>\n",
       "      <td>Harvesting the Heart</td>\n",
       "      <td>4</td>\n",
       "      <td>1.50</td>\n",
       "    </tr>\n",
       "  </tbody>\n",
       "</table>\n",
       "<p>1000 rows × 4 columns</p>\n",
       "</div>"
      ],
      "text/plain": [
       "     book_id                                              title  num_reviews  \\\n",
       "0        518               Pop Goes the Weasel (Alex Cross  #5)            4   \n",
       "1        732  The Ghost Map: The Story of London's Most Terr...            4   \n",
       "2        347  In the Hand of the Goddess (Song of the Liones...            6   \n",
       "3        610                           Tai-Pan (Asian Saga  #2)            4   \n",
       "4        330  How to Be a Domestic Goddess: Baking and the A...            2   \n",
       "..       ...                                                ...          ...   \n",
       "995      915  The World Is Flat: A Brief History of the Twen...           12   \n",
       "996      371                                              Junky            4   \n",
       "997      316                  His Excellency: George Washington            4   \n",
       "998      202                                      Drowning Ruth            9   \n",
       "999      303                               Harvesting the Heart            4   \n",
       "\n",
       "     average_rating  \n",
       "0              5.00  \n",
       "1              5.00  \n",
       "2              5.00  \n",
       "3              5.00  \n",
       "4              5.00  \n",
       "..              ...  \n",
       "995            2.25  \n",
       "996            2.00  \n",
       "997            2.00  \n",
       "998            2.00  \n",
       "999            1.50  \n",
       "\n",
       "[1000 rows x 4 columns]"
      ]
     },
     "execution_count": 17,
     "metadata": {},
     "output_type": "execute_result"
    }
   ],
   "source": [
    "pd.io.sql.read_sql(query, con = engine)"
   ]
  },
  {
   "cell_type": "markdown",
   "metadata": {},
   "source": [
    "**Comentarios:** La calificación promedio varía significativamente entre los libros. Algunos libros tienen calificaciones extremadamente altas (5.0), mientras que otros tienen calificaciones bajas (por debajo de 2.0) lo que podría sesgar el análisis."
   ]
  },
  {
   "cell_type": "markdown",
   "metadata": {},
   "source": [
    "### Identifica la editorial que ha publicado el mayor número de libros con más de 50 páginas (esto te ayudará a excluir folletos y publicaciones similares de tu análisis).\n"
   ]
  },
  {
   "cell_type": "code",
   "execution_count": 18,
   "metadata": {},
   "outputs": [],
   "source": [
    "query = \"\"\"\n",
    "SELECT p.publisher, COUNT(b.book_id) AS num_libros\n",
    "FROM books b\n",
    "JOIN publishers p ON b.publisher_id = p.publisher_id\n",
    "WHERE b.num_pages > 50\n",
    "GROUP BY p.publisher\n",
    "ORDER BY num_libros DESC\n",
    "LIMIT 5;\n",
    "\"\"\""
   ]
  },
  {
   "cell_type": "code",
   "execution_count": 19,
   "metadata": {},
   "outputs": [
    {
     "data": {
      "text/html": [
       "<div>\n",
       "<style scoped>\n",
       "    .dataframe tbody tr th:only-of-type {\n",
       "        vertical-align: middle;\n",
       "    }\n",
       "\n",
       "    .dataframe tbody tr th {\n",
       "        vertical-align: top;\n",
       "    }\n",
       "\n",
       "    .dataframe thead th {\n",
       "        text-align: right;\n",
       "    }\n",
       "</style>\n",
       "<table border=\"1\" class=\"dataframe\">\n",
       "  <thead>\n",
       "    <tr style=\"text-align: right;\">\n",
       "      <th></th>\n",
       "      <th>publisher</th>\n",
       "      <th>num_libros</th>\n",
       "    </tr>\n",
       "  </thead>\n",
       "  <tbody>\n",
       "    <tr>\n",
       "      <th>0</th>\n",
       "      <td>Penguin Books</td>\n",
       "      <td>42</td>\n",
       "    </tr>\n",
       "    <tr>\n",
       "      <th>1</th>\n",
       "      <td>Vintage</td>\n",
       "      <td>31</td>\n",
       "    </tr>\n",
       "    <tr>\n",
       "      <th>2</th>\n",
       "      <td>Grand Central Publishing</td>\n",
       "      <td>25</td>\n",
       "    </tr>\n",
       "    <tr>\n",
       "      <th>3</th>\n",
       "      <td>Penguin Classics</td>\n",
       "      <td>24</td>\n",
       "    </tr>\n",
       "    <tr>\n",
       "      <th>4</th>\n",
       "      <td>Bantam</td>\n",
       "      <td>19</td>\n",
       "    </tr>\n",
       "  </tbody>\n",
       "</table>\n",
       "</div>"
      ],
      "text/plain": [
       "                  publisher  num_libros\n",
       "0             Penguin Books          42\n",
       "1                   Vintage          31\n",
       "2  Grand Central Publishing          25\n",
       "3          Penguin Classics          24\n",
       "4                    Bantam          19"
      ]
     },
     "execution_count": 19,
     "metadata": {},
     "output_type": "execute_result"
    }
   ],
   "source": [
    "pd.io.sql.read_sql(query, con = engine)"
   ]
  },
  {
   "cell_type": "markdown",
   "metadata": {},
   "source": [
    "**Comentarios:** Penguin Books lidera la lista con 42 libros, seguida por Vintage (31 libros). Penguin tiene dos subdivisiones en la lista (Penguin Books y Penguin Classics), lo que indica una fuerte presencia en la industria editorial."
   ]
  },
  {
   "cell_type": "markdown",
   "metadata": {},
   "source": [
    "### Identifica al autor que tiene la más alta calificación promedio del libro: mira solo los libros con al menos 50 calificaciones.\n"
   ]
  },
  {
   "cell_type": "code",
   "execution_count": 20,
   "metadata": {},
   "outputs": [],
   "source": [
    "query = \"\"\"\n",
    "SELECT a.author, AVG(rt.rating) AS average_rating\n",
    "FROM books b\n",
    "JOIN authors a ON b.author_id = a.author_id\n",
    "JOIN ratings rt ON b.book_id = rt.book_id\n",
    "GROUP BY a.author\n",
    "HAVING COUNT(rt.rating_id) >= 50\n",
    "ORDER BY average_rating DESC\n",
    "LIMIT 5;\n",
    "\"\"\""
   ]
  },
  {
   "cell_type": "code",
   "execution_count": 21,
   "metadata": {},
   "outputs": [
    {
     "data": {
      "text/html": [
       "<div>\n",
       "<style scoped>\n",
       "    .dataframe tbody tr th:only-of-type {\n",
       "        vertical-align: middle;\n",
       "    }\n",
       "\n",
       "    .dataframe tbody tr th {\n",
       "        vertical-align: top;\n",
       "    }\n",
       "\n",
       "    .dataframe thead th {\n",
       "        text-align: right;\n",
       "    }\n",
       "</style>\n",
       "<table border=\"1\" class=\"dataframe\">\n",
       "  <thead>\n",
       "    <tr style=\"text-align: right;\">\n",
       "      <th></th>\n",
       "      <th>author</th>\n",
       "      <th>average_rating</th>\n",
       "    </tr>\n",
       "  </thead>\n",
       "  <tbody>\n",
       "    <tr>\n",
       "      <th>0</th>\n",
       "      <td>Diana Gabaldon</td>\n",
       "      <td>4.300000</td>\n",
       "    </tr>\n",
       "    <tr>\n",
       "      <th>1</th>\n",
       "      <td>J.K. Rowling/Mary GrandPré</td>\n",
       "      <td>4.288462</td>\n",
       "    </tr>\n",
       "    <tr>\n",
       "      <th>2</th>\n",
       "      <td>Agatha Christie</td>\n",
       "      <td>4.283019</td>\n",
       "    </tr>\n",
       "    <tr>\n",
       "      <th>3</th>\n",
       "      <td>Markus Zusak/Cao Xuân Việt Khương</td>\n",
       "      <td>4.264151</td>\n",
       "    </tr>\n",
       "    <tr>\n",
       "      <th>4</th>\n",
       "      <td>J.R.R. Tolkien</td>\n",
       "      <td>4.240964</td>\n",
       "    </tr>\n",
       "  </tbody>\n",
       "</table>\n",
       "</div>"
      ],
      "text/plain": [
       "                              author  average_rating\n",
       "0                     Diana Gabaldon        4.300000\n",
       "1         J.K. Rowling/Mary GrandPré        4.288462\n",
       "2                    Agatha Christie        4.283019\n",
       "3  Markus Zusak/Cao Xuân Việt Khương        4.264151\n",
       "4                     J.R.R. Tolkien        4.240964"
      ]
     },
     "execution_count": 21,
     "metadata": {},
     "output_type": "execute_result"
    }
   ],
   "source": [
    "pd.io.sql.read_sql(query, con = engine)"
   ]
  },
  {
   "cell_type": "markdown",
   "metadata": {},
   "source": [
    "**Comentarios:** \n",
    "Los resultados de la consulta realizada son los siguientes:\n",
    "- Diana Gabaldon lidera el ranking con una calificación promedio de 4.30, lo que indica una recepción muy positiva de sus libros.\n",
    "- J.K. Rowling/Mary GrandPré ocupa la segunda posición con 4.288, lo que confirma la popularidad y apreciación de la saga de Harry Potter.\n",
    "- Agatha Christie se encuentra en tercer lugar con 4.283, lo que sugiere que sus libros siguen siendo altamente valorados por los lectores."
   ]
  },
  {
   "cell_type": "markdown",
   "metadata": {},
   "source": [
    "### Encuentra el número promedio de reseñas de texto entre los usuarios que calificaron más de 50 libros."
   ]
  },
  {
   "cell_type": "code",
   "execution_count": 22,
   "metadata": {},
   "outputs": [],
   "source": [
    "query = \"\"\"\n",
    "WITH user_reviews AS (\n",
    "    SELECT username, COUNT(*) AS num_ratings\n",
    "    FROM ratings\n",
    "    GROUP BY username\n",
    "    HAVING COUNT(*) > 50\n",
    ")\n",
    "SELECT ROUND(AVG(num_reviews), 2) AS avg_text_reviews\n",
    "FROM (\n",
    "    SELECT r.username, COUNT(*) AS num_reviews\n",
    "    FROM reviews AS r\n",
    "    JOIN user_reviews AS ur ON r.username = ur.username\n",
    "    GROUP BY r.username\n",
    ") AS subquery;\n",
    "\"\"\""
   ]
  },
  {
   "cell_type": "code",
   "execution_count": 23,
   "metadata": {},
   "outputs": [
    {
     "data": {
      "text/html": [
       "<div>\n",
       "<style scoped>\n",
       "    .dataframe tbody tr th:only-of-type {\n",
       "        vertical-align: middle;\n",
       "    }\n",
       "\n",
       "    .dataframe tbody tr th {\n",
       "        vertical-align: top;\n",
       "    }\n",
       "\n",
       "    .dataframe thead th {\n",
       "        text-align: right;\n",
       "    }\n",
       "</style>\n",
       "<table border=\"1\" class=\"dataframe\">\n",
       "  <thead>\n",
       "    <tr style=\"text-align: right;\">\n",
       "      <th></th>\n",
       "      <th>avg_text_reviews</th>\n",
       "    </tr>\n",
       "  </thead>\n",
       "  <tbody>\n",
       "    <tr>\n",
       "      <th>0</th>\n",
       "      <td>24.33</td>\n",
       "    </tr>\n",
       "  </tbody>\n",
       "</table>\n",
       "</div>"
      ],
      "text/plain": [
       "   avg_text_reviews\n",
       "0             24.33"
      ]
     },
     "execution_count": 23,
     "metadata": {},
     "output_type": "execute_result"
    }
   ],
   "source": [
    "pd.io.sql.read_sql(query, con = engine)"
   ]
  },
  {
   "cell_type": "markdown",
   "metadata": {},
   "source": [
    "**Comentarios:** La consulta indica que el número promedio de reseñas de texto entre los usuarios que calificaron más de 50 libros fue de 24.33"
   ]
  },
  {
   "cell_type": "markdown",
   "metadata": {},
   "source": [
    "## Describe tus conclusiones"
   ]
  },
  {
   "cell_type": "markdown",
   "metadata": {},
   "source": [
    "- La cantidad de reseñas es un buen indicador de la popularidad de un libro en la plataforma.\n",
    "- Algunos libros con muchas reseñas podrían ser los más recomendados para estrategias de marketing o para destacar en una nueva aplicación de libros.\n",
    "- Un análisis adicional con histogramas o gráficos de dispersión podría ayudar a visualizar mejor la relación entre el número de reseñas y la calificación promedio.\n",
    "- Autores de fantasía y literatura juvenil dominan la lista de autores con más altas calificaciones, lo que indica que estos géneros reciben calificaciones muy positivas sugiriendo una gran satisfacción entre los lectores.\n",
    "- Para un nuevo producto, podría ser interesante analizar a profundidad qué géneros o autores tienen más reseñas y explorar formas de incentivar la reseña de libros menos comentado.\n",
    "- En cuanto a las editoriales, lo recomendable sería trabajar con Penguin Books ya que tiene una fuerte presencia en la industria editorial."
   ]
  }
 ],
 "metadata": {
  "ExecuteTimeLog": [
   {
    "duration": 397,
    "start_time": "2025-01-29T09:11:37.725Z"
   },
   {
    "duration": 189,
    "start_time": "2025-01-29T09:12:22.536Z"
   },
   {
    "duration": 4,
    "start_time": "2025-01-29T09:14:00.718Z"
   },
   {
    "duration": 5,
    "start_time": "2025-01-29T09:17:10.407Z"
   },
   {
    "duration": 368,
    "start_time": "2025-01-30T03:47:09.048Z"
   },
   {
    "duration": 192,
    "start_time": "2025-01-30T03:47:53.265Z"
   },
   {
    "duration": 6,
    "start_time": "2025-01-30T03:51:34.376Z"
   },
   {
    "duration": 381,
    "start_time": "2025-01-30T06:12:32.675Z"
   },
   {
    "duration": 5,
    "start_time": "2025-01-30T06:12:36.239Z"
   },
   {
    "duration": 3,
    "start_time": "2025-01-30T06:15:02.339Z"
   },
   {
    "duration": 5,
    "start_time": "2025-01-30T06:15:27.232Z"
   },
   {
    "duration": 3,
    "start_time": "2025-01-30T06:15:37.837Z"
   },
   {
    "duration": 4,
    "start_time": "2025-01-30T06:15:45.508Z"
   },
   {
    "duration": 3,
    "start_time": "2025-01-30T06:15:47.906Z"
   },
   {
    "duration": 4,
    "start_time": "2025-01-30T06:16:19.507Z"
   },
   {
    "duration": 5,
    "start_time": "2025-01-30T06:17:54.024Z"
   },
   {
    "duration": 182,
    "start_time": "2025-01-30T06:19:29.004Z"
   },
   {
    "duration": 12,
    "start_time": "2025-01-30T06:19:43.225Z"
   },
   {
    "duration": 367,
    "start_time": "2025-01-30T07:27:44.028Z"
   },
   {
    "duration": 3,
    "start_time": "2025-01-30T07:27:44.397Z"
   },
   {
    "duration": 2816,
    "start_time": "2025-01-30T07:27:44.402Z"
   },
   {
    "duration": 346,
    "start_time": "2025-01-30T07:32:18.605Z"
   },
   {
    "duration": 3,
    "start_time": "2025-01-30T07:32:18.953Z"
   },
   {
    "duration": 2668,
    "start_time": "2025-01-30T07:32:18.957Z"
   },
   {
    "duration": 2,
    "start_time": "2025-01-30T07:32:21.627Z"
   },
   {
    "duration": 802,
    "start_time": "2025-01-30T07:32:21.631Z"
   },
   {
    "duration": 3,
    "start_time": "2025-01-30T07:32:22.434Z"
   },
   {
    "duration": 802,
    "start_time": "2025-01-30T07:32:22.438Z"
   },
   {
    "duration": 3,
    "start_time": "2025-01-30T07:32:23.241Z"
   },
   {
    "duration": 802,
    "start_time": "2025-01-30T07:32:23.245Z"
   },
   {
    "duration": 2,
    "start_time": "2025-01-30T07:32:24.050Z"
   },
   {
    "duration": 805,
    "start_time": "2025-01-30T07:32:24.053Z"
   },
   {
    "duration": 2,
    "start_time": "2025-01-30T07:39:52.221Z"
   },
   {
    "duration": 802,
    "start_time": "2025-01-30T07:39:54.365Z"
   },
   {
    "duration": 5,
    "start_time": "2025-01-30T07:41:44.748Z"
   },
   {
    "duration": 2,
    "start_time": "2025-01-30T07:51:53.517Z"
   },
   {
    "duration": 1077,
    "start_time": "2025-01-30T07:51:54.771Z"
   },
   {
    "duration": 4,
    "start_time": "2025-01-30T07:55:02.078Z"
   },
   {
    "duration": 2,
    "start_time": "2025-01-30T07:55:03.922Z"
   },
   {
    "duration": 2984,
    "start_time": "2025-01-30T07:55:05.766Z"
   },
   {
    "duration": 2,
    "start_time": "2025-01-30T07:55:18.991Z"
   },
   {
    "duration": 780,
    "start_time": "2025-01-30T07:55:25.179Z"
   },
   {
    "duration": 2,
    "start_time": "2025-01-30T07:56:15.842Z"
   },
   {
    "duration": 781,
    "start_time": "2025-01-30T07:56:16.980Z"
   },
   {
    "duration": 2,
    "start_time": "2025-01-30T07:57:07.135Z"
   },
   {
    "duration": 784,
    "start_time": "2025-01-30T07:57:08.786Z"
   },
   {
    "duration": 3,
    "start_time": "2025-01-30T07:58:07.376Z"
   },
   {
    "duration": 781,
    "start_time": "2025-01-30T07:58:09.149Z"
   },
   {
    "duration": 3,
    "start_time": "2025-01-30T08:21:05.869Z"
   },
   {
    "duration": 1367,
    "start_time": "2025-01-30T08:21:08.655Z"
   },
   {
    "duration": 3,
    "start_time": "2025-01-30T08:21:21.766Z"
   },
   {
    "duration": 2,
    "start_time": "2025-01-30T08:21:25.974Z"
   },
   {
    "duration": 871,
    "start_time": "2025-01-30T08:21:27.848Z"
   },
   {
    "duration": 3,
    "start_time": "2025-01-30T08:23:47.687Z"
   },
   {
    "duration": 782,
    "start_time": "2025-01-30T08:23:49.819Z"
   },
   {
    "duration": 2,
    "start_time": "2025-01-30T08:25:09.482Z"
   },
   {
    "duration": 1051,
    "start_time": "2025-01-30T08:25:11.020Z"
   },
   {
    "duration": 2,
    "start_time": "2025-01-30T08:28:17.963Z"
   },
   {
    "duration": 1052,
    "start_time": "2025-01-30T08:28:19.930Z"
   },
   {
    "duration": 3,
    "start_time": "2025-01-30T08:28:28.870Z"
   },
   {
    "duration": 1050,
    "start_time": "2025-01-30T08:28:31.423Z"
   },
   {
    "duration": 382,
    "start_time": "2025-01-30T08:30:17.675Z"
   },
   {
    "duration": 2,
    "start_time": "2025-01-30T08:30:18.060Z"
   },
   {
    "duration": 2751,
    "start_time": "2025-01-30T08:30:18.064Z"
   },
   {
    "duration": 2,
    "start_time": "2025-01-30T08:30:20.817Z"
   },
   {
    "duration": 783,
    "start_time": "2025-01-30T08:30:20.822Z"
   },
   {
    "duration": 3,
    "start_time": "2025-01-30T08:30:21.606Z"
   },
   {
    "duration": 784,
    "start_time": "2025-01-30T08:30:21.610Z"
   },
   {
    "duration": 3,
    "start_time": "2025-01-30T08:30:22.396Z"
   },
   {
    "duration": 784,
    "start_time": "2025-01-30T08:30:22.400Z"
   },
   {
    "duration": 2,
    "start_time": "2025-01-30T08:30:23.186Z"
   },
   {
    "duration": 784,
    "start_time": "2025-01-30T08:30:23.190Z"
   },
   {
    "duration": 2,
    "start_time": "2025-01-30T08:30:23.976Z"
   },
   {
    "duration": 785,
    "start_time": "2025-01-30T08:30:23.979Z"
   },
   {
    "duration": 2,
    "start_time": "2025-01-30T08:30:24.767Z"
   },
   {
    "duration": 1055,
    "start_time": "2025-01-30T08:30:24.771Z"
   },
   {
    "duration": 2,
    "start_time": "2025-01-30T08:30:25.829Z"
   },
   {
    "duration": 925,
    "start_time": "2025-01-30T08:30:25.833Z"
   },
   {
    "duration": 3,
    "start_time": "2025-01-30T08:30:26.759Z"
   },
   {
    "duration": 848,
    "start_time": "2025-01-30T08:30:26.764Z"
   },
   {
    "duration": 2,
    "start_time": "2025-01-30T08:30:27.614Z"
   },
   {
    "duration": 866,
    "start_time": "2025-01-30T08:30:27.618Z"
   },
   {
    "duration": 3,
    "start_time": "2025-01-30T08:30:28.485Z"
   },
   {
    "duration": 786,
    "start_time": "2025-01-30T08:30:28.489Z"
   },
   {
    "duration": 2,
    "start_time": "2025-01-30T08:31:32.767Z"
   },
   {
    "duration": 1369,
    "start_time": "2025-01-30T08:31:34.756Z"
   },
   {
    "duration": 2,
    "start_time": "2025-01-30T08:32:21.053Z"
   },
   {
    "duration": 786,
    "start_time": "2025-01-30T08:32:22.315Z"
   },
   {
    "duration": 2,
    "start_time": "2025-01-30T08:32:34.302Z"
   },
   {
    "duration": 783,
    "start_time": "2025-01-30T08:32:35.798Z"
   },
   {
    "duration": 395,
    "start_time": "2025-01-30T08:58:30.856Z"
   },
   {
    "duration": 2,
    "start_time": "2025-01-30T08:58:31.253Z"
   },
   {
    "duration": 2773,
    "start_time": "2025-01-30T08:58:31.256Z"
   },
   {
    "duration": 3,
    "start_time": "2025-01-30T08:58:34.031Z"
   },
   {
    "duration": 792,
    "start_time": "2025-01-30T08:58:34.035Z"
   },
   {
    "duration": 2,
    "start_time": "2025-01-30T08:58:34.830Z"
   },
   {
    "duration": 790,
    "start_time": "2025-01-30T08:58:34.833Z"
   },
   {
    "duration": 2,
    "start_time": "2025-01-30T08:58:35.624Z"
   },
   {
    "duration": 792,
    "start_time": "2025-01-30T08:58:35.628Z"
   },
   {
    "duration": 3,
    "start_time": "2025-01-30T08:58:36.424Z"
   },
   {
    "duration": 789,
    "start_time": "2025-01-30T08:58:36.429Z"
   },
   {
    "duration": 3,
    "start_time": "2025-01-30T08:58:37.220Z"
   },
   {
    "duration": 789,
    "start_time": "2025-01-30T08:58:37.225Z"
   },
   {
    "duration": 4,
    "start_time": "2025-01-30T08:58:38.015Z"
   },
   {
    "duration": 2882,
    "start_time": "2025-01-30T08:58:38.021Z"
   },
   {
    "duration": 3,
    "start_time": "2025-01-30T08:58:40.904Z"
   },
   {
    "duration": 1064,
    "start_time": "2025-01-30T08:58:40.908Z"
   },
   {
    "duration": 3,
    "start_time": "2025-01-30T08:58:41.974Z"
   },
   {
    "duration": 790,
    "start_time": "2025-01-30T08:58:41.979Z"
   },
   {
    "duration": 3,
    "start_time": "2025-01-30T08:58:42.770Z"
   },
   {
    "duration": 792,
    "start_time": "2025-01-30T08:58:42.775Z"
   },
   {
    "duration": 2,
    "start_time": "2025-01-30T08:58:43.569Z"
   },
   {
    "duration": 789,
    "start_time": "2025-01-30T08:58:43.574Z"
   },
   {
    "duration": 2,
    "start_time": "2025-01-30T09:02:04.081Z"
   },
   {
    "duration": 789,
    "start_time": "2025-01-30T09:02:06.337Z"
   },
   {
    "duration": 369,
    "start_time": "2025-01-30T09:09:25.973Z"
   },
   {
    "duration": 2,
    "start_time": "2025-01-30T09:09:26.344Z"
   },
   {
    "duration": 2806,
    "start_time": "2025-01-30T09:09:26.349Z"
   },
   {
    "duration": 2,
    "start_time": "2025-01-30T09:09:29.158Z"
   },
   {
    "duration": 799,
    "start_time": "2025-01-30T09:09:29.162Z"
   },
   {
    "duration": 2,
    "start_time": "2025-01-30T09:09:29.963Z"
   },
   {
    "duration": 799,
    "start_time": "2025-01-30T09:09:29.967Z"
   },
   {
    "duration": 2,
    "start_time": "2025-01-30T09:09:30.768Z"
   },
   {
    "duration": 800,
    "start_time": "2025-01-30T09:09:30.772Z"
   },
   {
    "duration": 2,
    "start_time": "2025-01-30T09:09:31.576Z"
   },
   {
    "duration": 801,
    "start_time": "2025-01-30T09:09:31.580Z"
   },
   {
    "duration": 2,
    "start_time": "2025-01-30T09:09:32.383Z"
   },
   {
    "duration": 799,
    "start_time": "2025-01-30T09:09:32.387Z"
   },
   {
    "duration": 3,
    "start_time": "2025-01-30T09:09:33.187Z"
   },
   {
    "duration": 1077,
    "start_time": "2025-01-30T09:09:33.191Z"
   },
   {
    "duration": 2,
    "start_time": "2025-01-30T09:09:34.270Z"
   },
   {
    "duration": 947,
    "start_time": "2025-01-30T09:09:34.274Z"
   },
   {
    "duration": 3,
    "start_time": "2025-01-30T09:09:35.222Z"
   },
   {
    "duration": 802,
    "start_time": "2025-01-30T09:09:35.227Z"
   },
   {
    "duration": 2,
    "start_time": "2025-01-30T09:09:36.031Z"
   },
   {
    "duration": 803,
    "start_time": "2025-01-30T09:09:36.035Z"
   },
   {
    "duration": 2,
    "start_time": "2025-01-30T09:09:36.840Z"
   },
   {
    "duration": 801,
    "start_time": "2025-01-30T09:09:36.844Z"
   },
   {
    "duration": 394,
    "start_time": "2025-01-30T09:18:12.955Z"
   },
   {
    "duration": 3,
    "start_time": "2025-01-30T09:18:13.351Z"
   },
   {
    "duration": 2826,
    "start_time": "2025-01-30T09:18:13.356Z"
   },
   {
    "duration": 2,
    "start_time": "2025-01-30T09:18:16.185Z"
   },
   {
    "duration": 806,
    "start_time": "2025-01-30T09:18:16.188Z"
   },
   {
    "duration": 2,
    "start_time": "2025-01-30T09:18:16.996Z"
   },
   {
    "duration": 806,
    "start_time": "2025-01-30T09:18:17.000Z"
   },
   {
    "duration": 3,
    "start_time": "2025-01-30T09:18:17.808Z"
   },
   {
    "duration": 808,
    "start_time": "2025-01-30T09:18:17.812Z"
   },
   {
    "duration": 3,
    "start_time": "2025-01-30T09:18:18.623Z"
   },
   {
    "duration": 807,
    "start_time": "2025-01-30T09:18:18.628Z"
   },
   {
    "duration": 4,
    "start_time": "2025-01-30T09:18:19.437Z"
   },
   {
    "duration": 805,
    "start_time": "2025-01-30T09:18:19.442Z"
   },
   {
    "duration": 2,
    "start_time": "2025-01-30T09:18:20.249Z"
   },
   {
    "duration": 1088,
    "start_time": "2025-01-30T09:18:20.252Z"
   },
   {
    "duration": 3,
    "start_time": "2025-01-30T09:18:21.341Z"
   },
   {
    "duration": 955,
    "start_time": "2025-01-30T09:18:21.345Z"
   },
   {
    "duration": 3,
    "start_time": "2025-01-30T09:18:22.301Z"
   },
   {
    "duration": 808,
    "start_time": "2025-01-30T09:18:22.305Z"
   },
   {
    "duration": 2,
    "start_time": "2025-01-30T09:18:23.115Z"
   },
   {
    "duration": 810,
    "start_time": "2025-01-30T09:18:23.119Z"
   },
   {
    "duration": 3,
    "start_time": "2025-01-30T09:18:23.931Z"
   },
   {
    "duration": 807,
    "start_time": "2025-01-30T09:18:23.936Z"
   },
   {
    "duration": 377,
    "start_time": "2025-01-30T12:22:14.565Z"
   },
   {
    "duration": 3,
    "start_time": "2025-01-30T12:22:14.944Z"
   },
   {
    "duration": 2838,
    "start_time": "2025-01-30T12:22:14.948Z"
   },
   {
    "duration": 2,
    "start_time": "2025-01-30T12:22:17.788Z"
   },
   {
    "duration": 810,
    "start_time": "2025-01-30T12:22:17.792Z"
   },
   {
    "duration": 2,
    "start_time": "2025-01-30T12:22:18.604Z"
   },
   {
    "duration": 810,
    "start_time": "2025-01-30T12:22:18.608Z"
   },
   {
    "duration": 2,
    "start_time": "2025-01-30T12:22:19.419Z"
   },
   {
    "duration": 810,
    "start_time": "2025-01-30T12:22:19.423Z"
   },
   {
    "duration": 2,
    "start_time": "2025-01-30T12:22:20.235Z"
   },
   {
    "duration": 810,
    "start_time": "2025-01-30T12:22:20.238Z"
   },
   {
    "duration": 3,
    "start_time": "2025-01-30T12:22:21.050Z"
   },
   {
    "duration": 810,
    "start_time": "2025-01-30T12:22:21.054Z"
   },
   {
    "duration": 2,
    "start_time": "2025-01-30T12:22:21.867Z"
   },
   {
    "duration": 1090,
    "start_time": "2025-01-30T12:22:21.871Z"
   },
   {
    "duration": 3,
    "start_time": "2025-01-30T12:22:22.963Z"
   },
   {
    "duration": 960,
    "start_time": "2025-01-30T12:22:22.967Z"
   },
   {
    "duration": 3,
    "start_time": "2025-01-30T12:22:23.928Z"
   },
   {
    "duration": 810,
    "start_time": "2025-01-30T12:22:23.933Z"
   },
   {
    "duration": 2,
    "start_time": "2025-01-30T12:22:24.745Z"
   },
   {
    "duration": 813,
    "start_time": "2025-01-30T12:22:24.749Z"
   },
   {
    "duration": 3,
    "start_time": "2025-01-30T12:22:25.563Z"
   },
   {
    "duration": 811,
    "start_time": "2025-01-30T12:22:25.568Z"
   },
   {
    "duration": 376,
    "start_time": "2025-01-30T17:41:04.869Z"
   },
   {
    "duration": 2,
    "start_time": "2025-01-30T17:41:05.248Z"
   },
   {
    "duration": 2802,
    "start_time": "2025-01-30T17:41:05.252Z"
   },
   {
    "duration": 3,
    "start_time": "2025-01-30T17:41:08.056Z"
   },
   {
    "duration": 800,
    "start_time": "2025-01-30T17:41:08.061Z"
   },
   {
    "duration": 3,
    "start_time": "2025-01-30T17:41:08.863Z"
   },
   {
    "duration": 802,
    "start_time": "2025-01-30T17:41:08.867Z"
   },
   {
    "duration": 3,
    "start_time": "2025-01-30T17:41:09.671Z"
   },
   {
    "duration": 803,
    "start_time": "2025-01-30T17:41:09.676Z"
   },
   {
    "duration": 3,
    "start_time": "2025-01-30T17:41:10.482Z"
   },
   {
    "duration": 803,
    "start_time": "2025-01-30T17:41:10.486Z"
   },
   {
    "duration": 3,
    "start_time": "2025-01-30T17:41:11.290Z"
   },
   {
    "duration": 801,
    "start_time": "2025-01-30T17:41:11.294Z"
   },
   {
    "duration": 2,
    "start_time": "2025-01-30T17:41:12.097Z"
   },
   {
    "duration": 1079,
    "start_time": "2025-01-30T17:41:12.100Z"
   },
   {
    "duration": 3,
    "start_time": "2025-01-30T17:41:13.181Z"
   },
   {
    "duration": 949,
    "start_time": "2025-01-30T17:41:13.185Z"
   },
   {
    "duration": 2,
    "start_time": "2025-01-30T17:41:14.137Z"
   },
   {
    "duration": 802,
    "start_time": "2025-01-30T17:41:14.141Z"
   },
   {
    "duration": 3,
    "start_time": "2025-01-30T17:41:14.944Z"
   },
   {
    "duration": 805,
    "start_time": "2025-01-30T17:41:14.948Z"
   },
   {
    "duration": 3,
    "start_time": "2025-01-30T17:41:15.754Z"
   },
   {
    "duration": 803,
    "start_time": "2025-01-30T17:41:15.758Z"
   },
   {
    "duration": 2,
    "start_time": "2025-01-30T17:42:17.464Z"
   },
   {
    "duration": 803,
    "start_time": "2025-01-30T17:42:41.470Z"
   },
   {
    "duration": 377,
    "start_time": "2025-01-30T18:46:26.712Z"
   },
   {
    "duration": 2,
    "start_time": "2025-01-30T18:46:27.091Z"
   },
   {
    "duration": 2764,
    "start_time": "2025-01-30T18:46:27.095Z"
   },
   {
    "duration": 2,
    "start_time": "2025-01-30T18:46:29.862Z"
   },
   {
    "duration": 787,
    "start_time": "2025-01-30T18:46:29.866Z"
   },
   {
    "duration": 2,
    "start_time": "2025-01-30T18:46:30.655Z"
   },
   {
    "duration": 788,
    "start_time": "2025-01-30T18:46:30.659Z"
   },
   {
    "duration": 2,
    "start_time": "2025-01-30T18:46:31.449Z"
   },
   {
    "duration": 787,
    "start_time": "2025-01-30T18:46:31.453Z"
   },
   {
    "duration": 2,
    "start_time": "2025-01-30T18:46:32.243Z"
   },
   {
    "duration": 787,
    "start_time": "2025-01-30T18:46:32.247Z"
   },
   {
    "duration": 3,
    "start_time": "2025-01-30T18:46:33.035Z"
   },
   {
    "duration": 788,
    "start_time": "2025-01-30T18:46:33.039Z"
   },
   {
    "duration": 2,
    "start_time": "2025-01-30T18:46:33.829Z"
   },
   {
    "duration": 1060,
    "start_time": "2025-01-30T18:46:33.833Z"
   },
   {
    "duration": 2,
    "start_time": "2025-01-30T18:46:34.895Z"
   },
   {
    "duration": 938,
    "start_time": "2025-01-30T18:46:34.899Z"
   },
   {
    "duration": 3,
    "start_time": "2025-01-30T18:46:35.839Z"
   },
   {
    "duration": 789,
    "start_time": "2025-01-30T18:46:35.843Z"
   },
   {
    "duration": 4,
    "start_time": "2025-01-30T18:46:36.634Z"
   },
   {
    "duration": 790,
    "start_time": "2025-01-30T18:46:36.640Z"
   },
   {
    "duration": 2,
    "start_time": "2025-01-30T18:46:37.432Z"
   },
   {
    "duration": 789,
    "start_time": "2025-01-30T18:46:37.436Z"
   },
   {
    "duration": 399,
    "start_time": "2025-01-30T18:49:40.124Z"
   },
   {
    "duration": 3,
    "start_time": "2025-01-30T18:49:40.524Z"
   },
   {
    "duration": 2597,
    "start_time": "2025-01-30T18:49:40.528Z"
   },
   {
    "duration": 2,
    "start_time": "2025-01-30T18:49:43.127Z"
   },
   {
    "duration": 780,
    "start_time": "2025-01-30T18:49:43.131Z"
   },
   {
    "duration": 2,
    "start_time": "2025-01-30T18:49:43.913Z"
   },
   {
    "duration": 782,
    "start_time": "2025-01-30T18:49:43.917Z"
   },
   {
    "duration": 7,
    "start_time": "2025-01-30T18:49:44.701Z"
   },
   {
    "duration": 780,
    "start_time": "2025-01-30T18:49:44.710Z"
   },
   {
    "duration": 2,
    "start_time": "2025-01-30T18:49:45.494Z"
   },
   {
    "duration": 780,
    "start_time": "2025-01-30T18:49:45.498Z"
   },
   {
    "duration": 2,
    "start_time": "2025-01-30T18:49:46.280Z"
   },
   {
    "duration": 779,
    "start_time": "2025-01-30T18:49:46.284Z"
   },
   {
    "duration": 3,
    "start_time": "2025-01-30T18:49:47.065Z"
   },
   {
    "duration": 1049,
    "start_time": "2025-01-30T18:49:47.070Z"
   },
   {
    "duration": 2,
    "start_time": "2025-01-30T18:49:48.121Z"
   },
   {
    "duration": 927,
    "start_time": "2025-01-30T18:49:48.124Z"
   },
   {
    "duration": 2,
    "start_time": "2025-01-30T18:49:49.053Z"
   },
   {
    "duration": 781,
    "start_time": "2025-01-30T18:49:49.057Z"
   },
   {
    "duration": 2,
    "start_time": "2025-01-30T18:49:49.841Z"
   },
   {
    "duration": 784,
    "start_time": "2025-01-30T18:49:49.845Z"
   },
   {
    "duration": 3,
    "start_time": "2025-01-30T18:49:50.631Z"
   },
   {
    "duration": 781,
    "start_time": "2025-01-30T18:49:50.636Z"
   },
   {
    "duration": 9,
    "start_time": "2025-01-31T12:41:28.940Z"
   },
   {
    "duration": 365,
    "start_time": "2025-02-27T08:09:50.222Z"
   },
   {
    "duration": 3,
    "start_time": "2025-02-27T08:09:50.589Z"
   },
   {
    "duration": 2780,
    "start_time": "2025-02-27T08:09:50.593Z"
   },
   {
    "duration": 2,
    "start_time": "2025-02-27T08:09:53.375Z"
   },
   {
    "duration": 785,
    "start_time": "2025-02-27T08:09:53.380Z"
   },
   {
    "duration": 2,
    "start_time": "2025-02-27T08:09:54.167Z"
   },
   {
    "duration": 787,
    "start_time": "2025-02-27T08:09:54.171Z"
   },
   {
    "duration": 3,
    "start_time": "2025-02-27T08:09:54.959Z"
   },
   {
    "duration": 786,
    "start_time": "2025-02-27T08:09:54.964Z"
   },
   {
    "duration": 2,
    "start_time": "2025-02-27T08:09:55.752Z"
   },
   {
    "duration": 788,
    "start_time": "2025-02-27T08:09:55.756Z"
   },
   {
    "duration": 3,
    "start_time": "2025-02-27T08:09:56.545Z"
   },
   {
    "duration": 786,
    "start_time": "2025-02-27T08:09:56.549Z"
   },
   {
    "duration": 2,
    "start_time": "2025-02-27T08:09:57.338Z"
   },
   {
    "duration": 1059,
    "start_time": "2025-02-27T08:09:57.342Z"
   },
   {
    "duration": 2,
    "start_time": "2025-02-27T08:09:58.403Z"
   },
   {
    "duration": 931,
    "start_time": "2025-02-27T08:09:58.407Z"
   },
   {
    "duration": 2,
    "start_time": "2025-02-27T08:09:59.340Z"
   },
   {
    "duration": 787,
    "start_time": "2025-02-27T08:09:59.344Z"
   },
   {
    "duration": 2,
    "start_time": "2025-02-27T08:10:00.133Z"
   },
   {
    "duration": 792,
    "start_time": "2025-02-27T08:10:00.137Z"
   },
   {
    "duration": 2,
    "start_time": "2025-02-27T08:10:00.931Z"
   },
   {
    "duration": 786,
    "start_time": "2025-02-27T08:10:00.935Z"
   },
   {
    "duration": 337,
    "start_time": "2025-02-27T08:13:32.199Z"
   },
   {
    "duration": 4,
    "start_time": "2025-02-27T08:13:32.538Z"
   },
   {
    "duration": 2620,
    "start_time": "2025-02-27T08:13:32.543Z"
   },
   {
    "duration": 2,
    "start_time": "2025-02-27T08:13:35.166Z"
   },
   {
    "duration": 788,
    "start_time": "2025-02-27T08:13:35.170Z"
   },
   {
    "duration": 2,
    "start_time": "2025-02-27T08:13:35.960Z"
   },
   {
    "duration": 788,
    "start_time": "2025-02-27T08:13:35.963Z"
   },
   {
    "duration": 2,
    "start_time": "2025-02-27T08:13:36.753Z"
   },
   {
    "duration": 790,
    "start_time": "2025-02-27T08:13:36.757Z"
   },
   {
    "duration": 2,
    "start_time": "2025-02-27T08:13:37.550Z"
   },
   {
    "duration": 789,
    "start_time": "2025-02-27T08:13:37.553Z"
   },
   {
    "duration": 2,
    "start_time": "2025-02-27T08:13:38.344Z"
   },
   {
    "duration": 787,
    "start_time": "2025-02-27T08:13:38.348Z"
   },
   {
    "duration": 2,
    "start_time": "2025-02-27T08:13:39.137Z"
   },
   {
    "duration": 1061,
    "start_time": "2025-02-27T08:13:39.141Z"
   },
   {
    "duration": 2,
    "start_time": "2025-02-27T08:13:40.203Z"
   },
   {
    "duration": 933,
    "start_time": "2025-02-27T08:13:40.207Z"
   },
   {
    "duration": 3,
    "start_time": "2025-02-27T08:13:41.142Z"
   },
   {
    "duration": 788,
    "start_time": "2025-02-27T08:13:41.146Z"
   },
   {
    "duration": 2,
    "start_time": "2025-02-27T08:13:41.936Z"
   },
   {
    "duration": 792,
    "start_time": "2025-02-27T08:13:41.940Z"
   },
   {
    "duration": 2,
    "start_time": "2025-02-27T08:13:42.734Z"
   },
   {
    "duration": 789,
    "start_time": "2025-02-27T08:13:42.738Z"
   }
  ],
  "kernelspec": {
   "display_name": "Python 3",
   "language": "python",
   "name": "python3"
  },
  "language_info": {
   "codemirror_mode": {
    "name": "ipython",
    "version": 3
   },
   "file_extension": ".py",
   "mimetype": "text/x-python",
   "name": "python",
   "nbconvert_exporter": "python",
   "pygments_lexer": "ipython3",
   "version": "3.12.4"
  },
  "toc": {
   "base_numbering": 1,
   "nav_menu": {},
   "number_sections": true,
   "sideBar": true,
   "skip_h1_title": true,
   "title_cell": "Table of Contents",
   "title_sidebar": "Contents",
   "toc_cell": false,
   "toc_position": {},
   "toc_section_display": true,
   "toc_window_display": false
  }
 },
 "nbformat": 4,
 "nbformat_minor": 2
}
